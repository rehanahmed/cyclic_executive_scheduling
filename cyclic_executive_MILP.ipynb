{
 "cells": [
  {
   "cell_type": "code",
   "execution_count": 1,
   "id": "e6e0db13-e7a5-4f01-ab0e-b9f063d90fe8",
   "metadata": {
    "tags": []
   },
   "outputs": [],
   "source": [
    "from pulp import *\n",
    "import numpy as np\n",
    "import matplotlib.pyplot as plt"
   ]
  },
  {
   "cell_type": "code",
   "execution_count": 3,
   "id": "1f21fd6c-126c-4180-974d-e6cc0bae0d1e",
   "metadata": {
    "tags": []
   },
   "outputs": [],
   "source": [
    "taskset = [{'period':6, 'deadline':6, 'computation':2},\n",
    "          {'period':9, 'deadline':9, 'computation':2},\n",
    "          {'period':12, 'deadline':8, 'computation':2},\n",
    "          {'period':18, 'deadline':10, 'computation':4}]\n",
    "#taskset = [{'period':8, 'deadline':8, 'computation':2},\n",
    "#          {'period':8, 'deadline':8, 'computation':2},\n",
    "#          {'period':12, 'deadline':12, 'computation':1},\n",
    "#          {'period':4, 'deadline':4, 'computation':1}]"
   ]
  },
  {
   "cell_type": "code",
   "execution_count": null,
   "id": "1ef3ac62-7517-4c69-8e77-5a5b5f7bd801",
   "metadata": {},
   "outputs": [],
   "source": []
  },
  {
   "cell_type": "code",
   "execution_count": 6,
   "id": "301a0708-209d-49a2-8b41-8d5982f647c2",
   "metadata": {
    "tags": []
   },
   "outputs": [],
   "source": [
    "frame_size = 4 # hardcoded for now\n",
    "hyperperiod = np.lcm.reduce([t['period'] for t in taskset])\n",
    "starts  = np.arange(0,hyperperiod+frame_size,frame_size)\n",
    "ends = np.arange(0, hyperperiod+frame_size, frame_size) + frame_size\n",
    "tasks, frames = range(len(taskset)), range(len(starts)-1)"
   ]
  },
  {
   "cell_type": "code",
   "execution_count": 8,
   "id": "9f13877d-440c-4b8d-bd4f-5fb7d8f73e4f",
   "metadata": {},
   "outputs": [
    {
     "data": {
      "text/plain": [
       "[0, 1, 2, 3, 4, 5, 6, 7, 8]"
      ]
     },
     "execution_count": 8,
     "metadata": {},
     "output_type": "execute_result"
    }
   ],
   "source": [
    "list(frames)"
   ]
  },
  {
   "cell_type": "code",
   "execution_count": 10,
   "id": "a93419c2-93ff-4d8f-932a-515dffd0639b",
   "metadata": {
    "tags": []
   },
   "outputs": [],
   "source": [
    "model = LpProblem('cyclic_executive', LpMaximize)\n",
    "b_frames = LpVariable.dicts('F', [(f, t) for f in frames for t in tasks], cat='Binary')\n",
    "phases = LpVariable.dicts('Phi', range(len(taskset)), lowBound=0,cat='Integer')"
   ]
  },
  {
   "cell_type": "code",
   "execution_count": 12,
   "id": "bf848532-36d2-472e-910f-8b275b7563bd",
   "metadata": {
    "tags": []
   },
   "outputs": [],
   "source": [
    "model += lpSum([taskset[t]['computation'] * b_frames[(f, t)] for f in frames for t in tasks])"
   ]
  },
  {
   "cell_type": "code",
   "execution_count": 14,
   "id": "26b52443-707a-4288-8d1c-93ebafb4249f",
   "metadata": {
    "tags": []
   },
   "outputs": [],
   "source": [
    "# Now adding constraints\n",
    "#each frame cannot have more computations than its size\n",
    "for f in frames:\n",
    "    model += lpSum([b_frames[(f,t)] * taskset[t]['computation'] for t in tasks]) <= frame_size \n",
    "\n",
    "# each task is executed after its arrival and before its deadline\n",
    "for t, task in enumerate(taskset):\n",
    "    for f in frames[:]:\n",
    "        model += lpSum([b_frames[(rf,t)] for rf in frames[:f+1]]) <= (starts[f] - phases[t])/task['period'] +1\n",
    "        model += lpSum([b_frames[(rf,t)] for rf in frames[:f+1]]) >= (ends[f+1] - task['deadline']  - phases[t])/task['period']\n",
    "    "
   ]
  },
  {
   "cell_type": "code",
   "execution_count": 16,
   "id": "09a84c16-4a8a-4df5-a4b7-05ef40e1b7fe",
   "metadata": {
    "tags": []
   },
   "outputs": [
    {
     "name": "stdout",
     "output_type": "stream",
     "text": [
      "Welcome to the CBC MILP Solver \n",
      "Version: 2.10.3 \n",
      "Build Date: Dec 15 2019 \n",
      "\n",
      "command line - /home/rahmed/anaconda3/envs/schlib/lib/python3.11/site-packages/pulp/solverdir/cbc/linux/64/cbc /tmp/4b4a8b42330f427e956cc127d35919b1-pulp.mps -max -timeMode elapsed -branch -printingOptions all -solution /tmp/4b4a8b42330f427e956cc127d35919b1-pulp.sol (default strategy 1)\n",
      "At line 2 NAME          MODEL\n",
      "At line 3 ROWS\n",
      "At line 86 COLUMNS\n",
      "At line 671 RHS\n",
      "At line 753 BOUNDS\n",
      "At line 794 ENDATA\n",
      "Problem MODEL has 81 rows, 40 columns and 468 elements\n",
      "Coin0008I MODEL read with 0 errors\n",
      "Option for timeMode changed from cpu to elapsed\n",
      "Continuous objective value is 36 - 0.00 seconds\n",
      "Cgl0004I processed model has 45 rows, 40 columns (40 integer (36 of which binary)) and 252 elements\n",
      "Cutoff increment increased from 1e-05 to 1.9999\n",
      "Cbc0038I Initial state - 14 integers unsatisfied sum - 5\n",
      "Cbc0038I Pass   1: suminf.    2.00000 (7) obj. -30.8889 iterations 21\n",
      "Cbc0038I Pass   2: suminf.    1.55556 (4) obj. -33.1111 iterations 14\n",
      "Cbc0038I Pass   3: suminf.    1.33333 (4) obj. -32.6667 iterations 5\n",
      "Cbc0038I Pass   4: suminf.    1.11111 (3) obj. -30.8889 iterations 7\n",
      "Cbc0038I Pass   5: suminf.    0.88889 (3) obj. -30.4444 iterations 5\n",
      "Cbc0038I Pass   6: suminf.    1.16667 (3) obj. -26.6667 iterations 12\n",
      "Cbc0038I Pass   7: suminf.    1.11111 (5) obj. -26.4444 iterations 10\n",
      "Cbc0038I Pass   8: suminf.    2.00000 (5) obj. -28.6667 iterations 8\n",
      "Cbc0038I Pass   9: suminf.    0.77778 (4) obj. -25.1111 iterations 6\n",
      "Cbc0038I Pass  10: suminf.    0.77778 (4) obj. -25.1111 iterations 3\n",
      "Cbc0038I Pass  11: suminf.    2.50000 (8) obj. -29.3333 iterations 14\n",
      "Cbc0038I Pass  12: suminf.    2.00000 (8) obj. -29.3333 iterations 6\n",
      "Cbc0038I Pass  13: suminf.    2.00000 (8) obj. -29.3333 iterations 3\n",
      "Cbc0038I Pass  14: suminf.    1.77778 (6) obj. -27.5556 iterations 25\n",
      "Cbc0038I Pass  15: suminf.    1.11111 (5) obj. -28.2222 iterations 7\n",
      "Cbc0038I Pass  16: suminf.    1.11111 (5) obj. -28.2222 iterations 1\n",
      "Cbc0038I Pass  17: suminf.    1.44444 (4) obj. -27.7778 iterations 12\n",
      "Cbc0038I Pass  18: suminf.    1.44444 (4) obj. -27.7778 iterations 1\n",
      "Cbc0038I Pass  19: suminf.    0.77778 (3) obj. -28.2222 iterations 11\n",
      "Cbc0038I Pass  20: suminf.    0.44444 (2) obj. -28.8889 iterations 4\n",
      "Cbc0038I Pass  21: suminf.    0.77778 (2) obj. -27.1111 iterations 6\n",
      "Cbc0038I Pass  22: suminf.    0.77778 (2) obj. -27.1111 iterations 1\n",
      "Cbc0038I Pass  23: suminf.    0.44444 (2) obj. -28.8889 iterations 6\n",
      "Cbc0038I Pass  24: suminf.    2.55556 (9) obj. -27.3333 iterations 24\n",
      "Cbc0038I Pass  25: suminf.    2.11111 (8) obj. -26.8889 iterations 4\n",
      "Cbc0038I Pass  26: suminf.    1.33333 (5) obj. -30 iterations 14\n",
      "Cbc0038I Pass  27: suminf.    0.77778 (3) obj. -27.7778 iterations 5\n",
      "Cbc0038I Pass  28: suminf.    1.11111 (3) obj. -26.8889 iterations 4\n",
      "Cbc0038I Pass  29: suminf.    0.77778 (3) obj. -26.8889 iterations 2\n",
      "Cbc0038I Pass  30: suminf.    0.77778 (3) obj. -26.8889 iterations 0\n",
      "Cbc0038I No solution found this major pass\n",
      "Cbc0038I Before mini branch and bound, 7 integers at bound fixed and 0 continuous\n",
      "Cbc0038I Full problem 45 rows 40 columns, reduced to 37 rows 33 columns\n",
      "Cbc0038I Mini branch and bound improved solution from 1.79769e+308 to -32 (0.02 seconds)\n",
      "Cbc0038I Round again with cutoff of -34.1999\n",
      "Cbc0038I Pass  30: suminf.    2.49442 (9) obj. -34.1999 iterations 5\n",
      "Cbc0038I Pass  31: suminf.    2.49442 (9) obj. -34.1999 iterations 1\n",
      "Cbc0038I Pass  32: suminf.    3.23338 (9) obj. -34.1999 iterations 9\n",
      "Cbc0038I Pass  33: suminf.    2.74386 (10) obj. -34.1999 iterations 8\n",
      "Cbc0038I Pass  34: suminf.    2.50558 (8) obj. -34.1999 iterations 10\n",
      "Cbc0038I Pass  35: suminf.    1.87773 (8) obj. -34.1999 iterations 10\n",
      "Cbc0038I Pass  36: suminf.    2.72222 (8) obj. -34.2222 iterations 16\n",
      "Cbc0038I Pass  37: suminf.    2.07719 (8) obj. -34.1999 iterations 12\n",
      "Cbc0038I Pass  38: suminf.    2.00000 (6) obj. -34.4444 iterations 13\n",
      "Cbc0038I Pass  39: suminf.    1.86703 (6) obj. -34.1999 iterations 8\n",
      "Cbc0038I Pass  40: suminf.    1.76662 (7) obj. -34.1999 iterations 2\n",
      "Cbc0038I Pass  41: suminf.    2.71664 (9) obj. -34.1999 iterations 14\n",
      "Cbc0038I Pass  42: suminf.    2.71664 (9) obj. -34.1999 iterations 3\n",
      "Cbc0038I Pass  43: suminf.    3.68943 (12) obj. -34.1999 iterations 17\n",
      "Cbc0038I Pass  44: suminf.    2.74386 (10) obj. -34.1999 iterations 10\n",
      "Cbc0038I Pass  45: suminf.    2.74386 (10) obj. -34.1999 iterations 0\n",
      "Cbc0038I Pass  46: suminf.    2.50558 (8) obj. -34.1999 iterations 10\n",
      "Cbc0038I Pass  47: suminf.    1.87773 (8) obj. -34.1999 iterations 11\n",
      "Cbc0038I Pass  48: suminf.    2.72222 (8) obj. -34.2222 iterations 16\n",
      "Cbc0038I Pass  49: suminf.    2.07719 (8) obj. -34.1999 iterations 12\n",
      "Cbc0038I Pass  50: suminf.    2.00000 (6) obj. -34.4444 iterations 13\n",
      "Cbc0038I Pass  51: suminf.    1.86703 (6) obj. -34.1999 iterations 8\n",
      "Cbc0038I Pass  52: suminf.    1.76662 (7) obj. -34.1999 iterations 2\n",
      "Cbc0038I Pass  53: suminf.    2.71664 (9) obj. -34.1999 iterations 14\n",
      "Cbc0038I Pass  54: suminf.    2.71664 (9) obj. -34.1999 iterations 3\n",
      "Cbc0038I Pass  55: suminf.    3.68943 (12) obj. -34.1999 iterations 17\n",
      "Cbc0038I Pass  56: suminf.    2.74386 (10) obj. -34.1999 iterations 10\n",
      "Cbc0038I Pass  57: suminf.    2.74386 (10) obj. -34.1999 iterations 0\n",
      "Cbc0038I Pass  58: suminf.    2.50558 (8) obj. -34.1999 iterations 10\n",
      "Cbc0038I Pass  59: suminf.    1.87773 (8) obj. -34.1999 iterations 11\n",
      "Cbc0038I No solution found this major pass\n",
      "Cbc0038I Before mini branch and bound, 19 integers at bound fixed and 0 continuous\n",
      "Cbc0038I Mini branch and bound did not improve solution (0.03 seconds)\n",
      "Cbc0038I After 0.03 seconds - Feasibility pump exiting with objective of -32 - took 0.02 seconds\n",
      "Cbc0012I Integer solution of -32 found by feasibility pump after 0 iterations and 0 nodes (0.03 seconds)\n",
      "Cbc0012I Integer solution of -34 found by DiveCoefficient after 619 iterations and 0 nodes (0.07 seconds)\n",
      "Cbc0031I 23 added rows had average density of 9.3043478\n",
      "Cbc0013I At root node, 23 cuts changed objective from -36 to -34 in 27 passes\n",
      "Cbc0014I Cut generator 0 (Probing) - 341 row cuts average 3.7 elements, 1 column cuts (1 active)  in 0.004 seconds - new frequency is 1\n",
      "Cbc0014I Cut generator 1 (Gomory) - 339 row cuts average 34.5 elements, 0 column cuts (0 active)  in 0.004 seconds - new frequency is 1\n",
      "Cbc0014I Cut generator 2 (Knapsack) - 36 row cuts average 3.5 elements, 0 column cuts (0 active)  in 0.004 seconds - new frequency is 1\n",
      "Cbc0014I Cut generator 3 (Clique) - 0 row cuts average 0.0 elements, 0 column cuts (0 active)  in 0.000 seconds - new frequency is -100\n",
      "Cbc0014I Cut generator 4 (MixedIntegerRounding2) - 41 row cuts average 5.0 elements, 0 column cuts (0 active)  in 0.002 seconds - new frequency is 1\n",
      "Cbc0014I Cut generator 5 (FlowCover) - 4 row cuts average 5.0 elements, 0 column cuts (0 active)  in 0.001 seconds - new frequency is -100\n",
      "Cbc0014I Cut generator 6 (TwoMirCuts) - 147 row cuts average 19.1 elements, 0 column cuts (0 active)  in 0.002 seconds - new frequency is 1\n",
      "Cbc0014I Cut generator 7 (ZeroHalf) - 30 row cuts average 2.0 elements, 0 column cuts (0 active)  in 0.003 seconds - new frequency is 1\n",
      "Cbc0001I Search completed - best objective -34, took 619 iterations and 0 nodes (0.07 seconds)\n",
      "Cbc0035I Maximum depth 0, 0 variables fixed on reduced cost\n",
      "Cuts at root node changed objective from -36 to -34\n",
      "Probing was tried 27 times and created 342 cuts of which 0 were active after adding rounds of cuts (0.004 seconds)\n",
      "Gomory was tried 27 times and created 339 cuts of which 0 were active after adding rounds of cuts (0.004 seconds)\n",
      "Knapsack was tried 27 times and created 36 cuts of which 0 were active after adding rounds of cuts (0.004 seconds)\n",
      "Clique was tried 27 times and created 0 cuts of which 0 were active after adding rounds of cuts (0.000 seconds)\n",
      "MixedIntegerRounding2 was tried 27 times and created 41 cuts of which 0 were active after adding rounds of cuts (0.002 seconds)\n",
      "FlowCover was tried 27 times and created 4 cuts of which 0 were active after adding rounds of cuts (0.001 seconds)\n",
      "TwoMirCuts was tried 27 times and created 147 cuts of which 0 were active after adding rounds of cuts (0.002 seconds)\n",
      "ZeroHalf was tried 27 times and created 30 cuts of which 0 were active after adding rounds of cuts (0.003 seconds)\n",
      "\n",
      "Result - Optimal solution found\n",
      "\n",
      "Objective value:                34.00000000\n",
      "Enumerated nodes:               0\n",
      "Total iterations:               619\n",
      "Time (CPU seconds):             0.06\n",
      "Time (Wallclock seconds):       0.07\n",
      "\n",
      "Option for printingOptions changed from normal to all\n",
      "Total time (CPU seconds):       0.06   (Wallclock seconds):       0.07\n",
      "\n",
      "Phases are  ['Phi_0 = 2', 'Phi_1 = 0', 'Phi_2 = 4', 'Phi_3 = 0']\n",
      "Frame  0 ['Task 3']\n",
      "Frame  1 ['Task 0', 'Task 1']\n",
      "Frame  2 ['Task 0', 'Task 2']\n",
      "Frame  3 ['Task 1']\n",
      "Frame  4 ['Task 0', 'Task 2']\n",
      "Frame  5 ['Task 0', 'Task 1']\n",
      "Frame  6 ['Task 3']\n",
      "Frame  7 ['Task 0', 'Task 1']\n",
      "Frame  8 ['Task 0', 'Task 2']\n"
     ]
    }
   ],
   "source": [
    "solution = model.solve()\n",
    "print(\"Phases are \", [\"Phi_%d = %d\"%(t, phases[t].value()) for t in tasks])\n",
    "for f in frames:\n",
    "    print(\"Frame \", f, [\"Task %d\"%t for t in tasks if b_frames[(f,t)].value()>0] )"
   ]
  },
  {
   "cell_type": "code",
   "execution_count": 96,
   "id": "552d1ed9-6db7-400b-a295-ed78c8f7870a",
   "metadata": {
    "tags": []
   },
   "outputs": [
    {
     "data": {
      "image/png": "[encoded data removed]",
      "text/plain": [
       "<Figure size 640x480 with 1 Axes>"
      ]
     },
     "metadata": {},
     "output_type": "display_data"
    }
   ],
   "source": [
    "# now drawing the schedule\n",
    "fig, sch = plt.subplots()\n",
    "\n",
    "sch.vlines(np.array(frames) * frame_size, 0, 4, linestyles='dashed', color='gray', alpha =0.5)\n",
    "\n",
    "for f in frames:\n",
    "    start = f *frame_size\n",
    "    for t in tasks:\n",
    "        if b_frames[(f,t)].value():\n",
    "            sch.broken_barh([(start, taskset[t]['computation'])], (t,0.5 ), color = 'gray')\n",
    "            start += taskset[t]['computation']\n",
    "#    print(\"Frame \", f, [\"Task %d\"%t for t in tasks if b_frames[(f,t)].value()>0] )\n",
    "for t, task in enumerate(taskset):\n",
    "    arrivals = np.arange(hyperperiod/task['period']) * task['period'] + phases[t].value()\n",
    "    deadlines = arrivals + task['deadline']\n",
    "    for a in arrivals:\n",
    "        sch.arrow(a,t, 0,0.75, color = 'black', head_width=0.5, head_length=0.1, alpha =0.8)\n",
    "    for d in deadlines:\n",
    "        sch.arrow(d,t+0.75, 0,-0.75, color = 'red', head_width=0.5, head_length=0.1, alpha=0.8)   "
   ]
  },
  {
   "cell_type": "code",
   "execution_count": null,
   "id": "79897b05-812f-448a-bfec-19dcd6141690",
   "metadata": {},
   "outputs": [],
   "source": []
  },
  {
   "cell_type": "code",
   "execution_count": null,
   "id": "806fd2f3-e69c-4338-90c2-004c893edde0",
   "metadata": {},
   "outputs": [],
   "source": []
  }
 ],
 "metadata": {
  "kernelspec": {
   "display_name": "Python [conda env:schlib]",
   "language": "python",
   "name": "conda-env-schlib-py"
  },
  "language_info": {
   "codemirror_mode": {
    "name": "ipython",
    "version": 3
   },
   "file_extension": ".py",
   "mimetype": "text/x-python",
   "name": "python",
   "nbconvert_exporter": "python",
   "pygments_lexer": "ipython3",
   "version": "3.11.11"
  }
 },
 "nbformat": 4,
 "nbformat_minor": 5
}
